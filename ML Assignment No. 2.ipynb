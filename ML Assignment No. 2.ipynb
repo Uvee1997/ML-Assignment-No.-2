{
 "cells": [
  {
   "cell_type": "markdown",
   "id": "f2e35f40",
   "metadata": {},
   "source": [
    "1) What is the concept of human learning? Please give two examples.\n",
    "\n",
    ":- It is the form of learning which requires higher order mental processes like thinking, reasoning, intelligence.\n",
    "   For e.g - When we see a dog we attach term 'dog', we learn that dog refers to particular animal. \n",
    "             Different types of skills"
   ]
  },
  {
   "cell_type": "markdown",
   "id": "c88307b6",
   "metadata": {},
   "source": [
    "2) What different forms of human learning are there? Are there any machine learning equivalents?\n",
    "\n",
    ":- Classical conditioning, operant conditioning, observational learning. Concept learning is equivalent to ML."
   ]
  },
  {
   "cell_type": "markdown",
   "id": "2460425e",
   "metadata": {},
   "source": [
    "3) What is machine learning, and how does it work? What are the key responsibilities of machine\n",
    "   learning? \n",
    "    \n",
    ":- It is one of the fields of AI, which broadly defined as capability of a machine imiate intelligent human beheviour.\n",
    "   Key responsibilities:-\n",
    "    i) Study & transfer data science prototypes\n",
    "    ii) Design machine learning systems\n",
    "    iii) Research & impliment appropriate ML algorithms\n",
    "    vi) Run machine learning test & elements"
   ]
  },
  {
   "cell_type": "markdown",
   "id": "d69ed265",
   "metadata": {},
   "source": [
    "4) Define the terms \"penalty\" and \"reward\" in the context of reinforcement learning.\n",
    "\n",
    ":- In reinforcement learning agents are train on penalty and reward mechanism. The agent is rewarded for correct move &\n",
    "   gets penalty for wrong ones"
   ]
  },
  {
   "cell_type": "markdown",
   "id": "597b1d9e",
   "metadata": {},
   "source": [
    "5) Explain the term \"learning as a search\"?\n",
    "\n",
    ":- Learning can be viewed as a search through the space of all sentences in a concept description language for a sentence \n",
    "   that best describes the data."
   ]
  },
  {
   "cell_type": "markdown",
   "id": "1b072022",
   "metadata": {},
   "source": [
    "6) What are the various goals of machine learning? What is the relationship between these and human learning?\n",
    "\n",
    ":- create logic/rules to predict future event/process.In ML, we give Data and actual output to train the machine and as resultwe got the rules \n",
    "    and base on these rules we can predict future event/process/moment etc. based on probelm.\n",
    "   Regardless of whether the learner is a human or machine, the basic learning process is similar. It can be divided into four interrelated components: Data storage utilizes observation, memory, and recall to provide a factual basis for further reasoning. "
   ]
  },
  {
   "cell_type": "markdown",
   "id": "a7808997",
   "metadata": {},
   "source": [
    "7) Illustrate the various elements of machine learning using a real-life illustration.\n",
    "\n",
    ":- i) Image Recognition = It is mostly used in ML. There are many situtation where you classify object as a digital image.\n",
    "                          For example, in case of black & white image the intensity of each pixel is served as one of the\n",
    "                          measurements.In colored images, each pixel provides 3 measurements of intensities in three                                 different colors – red, green and blue (RGB).\n",
    "          \n",
    "   ii) Speech Recognition = Translation of spoken words into the text. It is also known as computer speech recognition or \n",
    "                            automatic speech recognition.Speech recognition is used in the applications like voice user                                 interface, voice searches and more. It can also be used a simple data entry and preparation of                             structred documents.\n",
    "                            \n",
    "   iii) Medical Diagnosis = Machine learning can be used in the techniques and tools that can help in the diagnosis of                                 diseases.It is used for the analysis of the clinical parameters and their combination for the                               prognosis example prediction of disease progression for the extraction of medical knowledge for                              the outcome research, for therapy planning and patient monitoring.  \n",
    "   \n",
    "   iv) Statistical Arbitrage  v)Learning Associations  vi) classification  vii) Prediction  viii) Extraction  \n",
    "   ix) Regression  x) Financial Services"
   ]
  },
  {
   "cell_type": "markdown",
   "id": "c567e2ec",
   "metadata": {},
   "source": [
    "8) Provide an example of the abstraction method.\n",
    "\n",
    ":- Abstraction is the method that displays only the relevent attributes of the object and hides unnecessary details.\n",
    "   Eg:- When you are driving a car you are only concernced about driving a car like star/stop, accelerate/break."
   ]
  },
  {
   "cell_type": "markdown",
   "id": "25cbd387",
   "metadata": {},
   "source": [
    "9) What is the concept of generalization? What function does it play in the machine learning\n",
    "   process?\n",
    "    \n",
    "   What is classification, exactly? What are the main distinctions between classification and regression?\n",
    "\n",
    ":- Generalization - It is used to demonstrate how well is a train model to classify or forecast the unseen data. Training\n",
    "                    generalized machine learning model in general, it works for all subset of unseen data. \n",
    "   \n",
    "   Classification - An orderd set of related categories used to group data according to its similarities.\n",
    "    \n",
    "   Classification predicts discrete class labels, while regression predicts continous quantity. "
   ]
  },
  {
   "cell_type": "markdown",
   "id": "e3aae5d2",
   "metadata": {},
   "source": [
    "10) What is regression, and how does it work? Give an example of a real-world problem that was solved using regression.\n",
    "\n",
    ":- Regression is the process for investigating the relationship between independent variables or features and \n",
    "   dependent variables & outcomes.\n",
    "   example - House price prediction of given features like size, price, location etc."
   ]
  },
  {
   "cell_type": "markdown",
   "id": "3a4f545e",
   "metadata": {},
   "source": [
    "11) Describe the clustering mechanism in detail.\n",
    "\n",
    ":- Clustering is the process of making a group of abstract objects into classes of similar objects.\n",
    "    i)A cluster of data objects can be treated as one group.\n",
    "\n",
    "    ii) While doing cluster analysis, we first partition the set of data into groups based on data similarity and then             assign the labels to the groups.\n",
    "\n",
    "    iii) The main advantage of clustering over classification is that, it is adaptable to changes and helps single out             useful features that distinguish different groups."
   ]
  },
  {
   "cell_type": "markdown",
   "id": "3af61c48",
   "metadata": {},
   "source": [
    "12) Make brief observations on two of the following topics:\n",
    "    \n",
    "    Studying under supervision:- It also known as supervised machine learning, it is subcategory of meachine learning &\n",
    "                                 AI.It is defined by its use of labeled datasets to train algorithms that to \n",
    "                                 classify data or predict outcomes accurately.Supervised learning uses a training set to                                    teach models to yield the desired output. This training dataset includes inputs and                                        correct outputs, which allow the model to learn over time. The algorithm measures its                                       accuracy through the loss function, adjusting until the error has been sufficiently                                         minimized. In supervised learning for data mining this classified in 2 groups i.e \n",
    "                                  classification & regression.\n",
    "                                  \n",
    "                                  \n",
    "                                  \n",
    "    Studying without supervision:- In this type learning the training is provided using information is not classified nor\n",
    "                                   label allowing the algorithm to act on that information without guidance.\n",
    "                                   Unlike supervised learning, no teacher is provided that means no training will be given                                    to the machine. Therefore the machine is restricted to find the hidden structure in                                        unlabeled data by itself. For instance, suppose it is given an image having both dogs                                      and cats which it has never seen. \n",
    "        "
   ]
  }
 ],
 "metadata": {
  "kernelspec": {
   "display_name": "Python 3 (ipykernel)",
   "language": "python",
   "name": "python3"
  },
  "language_info": {
   "codemirror_mode": {
    "name": "ipython",
    "version": 3
   },
   "file_extension": ".py",
   "mimetype": "text/x-python",
   "name": "python",
   "nbconvert_exporter": "python",
   "pygments_lexer": "ipython3",
   "version": "3.9.7"
  }
 },
 "nbformat": 4,
 "nbformat_minor": 5
}
